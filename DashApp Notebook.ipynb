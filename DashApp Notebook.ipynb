{
 "cells": [
  {
   "cell_type": "code",
   "execution_count": 44,
   "id": "5ca7c554-4038-48f2-8be0-7a2325752621",
   "metadata": {},
   "outputs": [],
   "source": [
    "### Library Imports\n",
    "from dash import Dash,html,dcc, Input, Output, State\n",
    "import dash_bootstrap_components as dbc\n",
    "from dash.exceptions import PreventUpdate\n",
    "import pathlib\n",
    "import tiledbvcf\n",
    "import shutil\n"
   ]
  },
  {
   "cell_type": "code",
   "execution_count": 54,
   "id": "1d853e95-364f-431d-8c86-a303f7cd0ac7",
   "metadata": {
    "is_executing": true
   },
   "outputs": [
    {
     "name": "stdout",
     "output_type": "stream",
     "text": [
      "Dash app running on http://127.0.0.1:8052/\n",
      "---------------------------------------------------------------------------\n",
      "TypeError                                 Traceback (most recent call last)\n",
      "Cell In[54], line 33, in update_output(\n",
      "    n_clicks=1,\n",
      "    dataset=None,\n",
      "    files_directory='../Data/GIAB_vcfs'\n",
      ")\n",
      "     30 if FILES_DIRECTORY.exists() == False:\n",
      "     31     return(\"File path doesn't exist\")\n",
      "---> 33 if len(dataset) == 0:\n",
      "        dataset = None\n",
      "     34     DATASET = pathlib.Path(\"./vcf_dataset\")\n",
      "     35 else:\n",
      "\n",
      "TypeError: object of type 'NoneType' has no len()\n",
      "\n",
      "The directory has 2 vcf files\n",
      "Files ingestion started\n",
      "dataset returned\n",
      "Dataset Created\n"
     ]
    }
   ],
   "source": [
    "# Dash PlayGround\n",
    "\n",
    "# Instantiating the app\n",
    "app = Dash(\"__name__\", external_stylesheets=[dbc.themes.BOOTSTRAP] )\n",
    "\n",
    "# CONSTANTS\n",
    "FILES_DIRECTORY = ''\n",
    "DATASET = 'vcf_dataset'\n",
    "\n",
    "# App layout\n",
    "app.layout = html.Div([\n",
    "    dbc.Label(\"Path to VCF Files: \"),\n",
    "    dcc.Input(id = \"files_directory\", placeholder=\"Directory containing VCF files\"),\n",
    "    html.Br(),\n",
    "    dbc.Label(\"Dataset Name: \"),\n",
    "    dcc.Input(id = \"dataset\", placeholder=\"Dataset Name ( Default : vcf_dataset )\"),\n",
    "    html.Button('Submit', id='constants_update_submit', n_clicks=0),\n",
    "    html.P(id=\"Output\")\n",
    "])\n",
    "\n",
    "@app.callback(Output(\"Output\", component_property=\"children\"),\n",
    "          Input(\"constants_update_submit\", component_property=\"n_clicks\"),\n",
    "          State(\"dataset\", component_property=\"value\"),\n",
    "          State(\"files_directory\", component_property=\"value\"))\n",
    "\n",
    "def update_output(n_clicks, dataset, files_directory):\n",
    "    if n_clicks == 0:\n",
    "        raise PreventUpdate\n",
    "    FILES_DIRECTORY = pathlib.Path(files_directory)\n",
    "    if FILES_DIRECTORY.exists() == False:\n",
    "        return(\"File path doesn't exist\")\n",
    "    \n",
    "    if len(dataset) == 0:\n",
    "        DATASET = pathlib.Path(\"./vcf_dataset\")\n",
    "    else:\n",
    "        DATASET = pathlib.Path(f\"./{dataset}\")\n",
    "    \n",
    "    if DATASET.exists():\n",
    "        return(html.P(\"Dataset Already exist. Please select what you want to do next ?\"),\n",
    "        dcc.Dropdown([\"Remove\", \"Update\"], id=\"duplicate_dataset_case\"),\n",
    "        html.Button('Submit', id='ddbutton', n_clicks=0),\n",
    "        html.P(id=\"output_message\"))\n",
    "    else:\n",
    "        create_dataset(DATASET, FILES_DIRECTORY)\n",
    "        print(\"Dataset Created\")\n",
    "\n",
    "\n",
    "\n",
    "\n",
    "def create_dataset(dataset_path, files_directory):\n",
    "    ingested_files_count = 0\n",
    "    files = list(files_directory.glob(\"*.vcf.gz\"))\n",
    "    dataset = tiledbvcf.Dataset(str(dataset_path),\"w\")\n",
    "    dataset.create_dataset()\n",
    "    print(f\"The directory has {len(files)} vcf files\")\n",
    "    print(\"Files ingestion started\")\n",
    "    for file in files:\n",
    "        try:\n",
    "            dataset.ingest_samples([str(file)])\n",
    "            ingested_files_count = ingested_files_count + 1\n",
    "        except Exception as e:\n",
    "            print(e)\n",
    "    #print(f\"{ingested_files_count} out of {len(files)} ingested\")\n",
    "    print(\"dataset returned\")\n",
    "    return(dataset)\n",
    "\n",
    "\n",
    "\n",
    "@app.callback(Output(\"output_message\", component_property=\"children\"),\n",
    "          Input(\"ddbutton\", component_property=\"n_clicks\"),\n",
    "          State(\"duplicate_dataset_case\", component_property=\"value\"))\n",
    "def check_dataset_existence(n_clicks,message):\n",
    "    if n_clicks == 0:\n",
    "       raise PreventUpdate\n",
    "    else:\n",
    "        if message==\"Remove\":\n",
    "            shutil.rmtree(DATASET)\n",
    "        else:\n",
    "            dataset = tiledbvcf.Dataset(str(DATASET),\"w\")\n",
    "            print(f\"The directory has {len(files)} vcf files\")\n",
    "            print(\"Files ingestion started\")\n",
    "            for file in files:\n",
    "                try:\n",
    "                    dataset.ingest_samples([str(file)])\n",
    "                    ingested_files_count = ingested_files_count + 1\n",
    "                except Exception as e:\n",
    "                    print(e)\n",
    "            print(\"dataset returned\")\n",
    "            return(dataset)\n",
    "            \n",
    "    \n",
    "    \n",
    "    \n",
    "\n",
    "\n",
    "\n",
    "# Running the app\n",
    "if __name__ == '__main__':\n",
    "    app.run_server(debug=True, jupyter_mode = 'external', port=8052)\n",
    "    \n",
    "    \n",
    "    "
   ]
  },
  {
   "cell_type": "code",
   "execution_count": 18,
   "id": "3389acea-ecf4-4c81-9ed7-66578385f1e0",
   "metadata": {},
   "outputs": [
    {
     "name": "stdout",
     "output_type": "stream",
     "text": [
      "The directory has 1 vcf files\n",
      "Files ingestion started\n",
      "name 'ingested_files_count' is not defined\n",
      "dataset returned\n"
     ]
    },
    {
     "ename": "SyntaxError",
     "evalue": "'return' outside function (2384976202.py, line 15)",
     "output_type": "error",
     "traceback": [
      "\u001b[0;36m  Cell \u001b[0;32mIn[18], line 15\u001b[0;36m\u001b[0m\n\u001b[0;31m    return(dataset)\u001b[0m\n\u001b[0m    ^\u001b[0m\n\u001b[0;31mSyntaxError\u001b[0m\u001b[0;31m:\u001b[0m 'return' outside function\n"
     ]
    }
   ],
   "source": [
    "files_directory = pathlib.Path(\"../Data/dum\")\n",
    "dataset_path = pathlib.Path(\"./testa\")\n",
    "files = list(files_directory.glob(\"*.vcf.gz\"))\n",
    "dataset = tiledbvcf.Dataset(str(dataset_path),\"w\")\n",
    "print(f\"The directory has {len(files)} vcf files\")\n",
    "print(\"Files ingestion started\")\n",
    "for file in files:\n",
    "    try:\n",
    "        dataset.ingest_samples([str(file)])\n",
    "        ingested_files_count = ingested_files_count + 1\n",
    "    except Exception as e:\n",
    "        print(e)\n",
    "#print(f\"{ingested_files_count} out of {len(files)} ingested\")\n",
    "print(\"dataset returned\")\n",
    "return(dataset)\n",
    "    "
   ]
  },
  {
   "cell_type": "code",
   "execution_count": 22,
   "id": "23847c54-90b1-4fc1-a2b1-a8abb81aa939",
   "metadata": {},
   "outputs": [
    {
     "name": "stdout",
     "output_type": "stream",
     "text": [
      "The dataset has been created with 3 vcf samples.\n"
     ]
    }
   ],
   "source": [
    "\n",
    "tiledbds = tiledbvcf.Dataset('testa','r')\n",
    "print(f\"The dataset has been created with {tiledbds.sample_count()} vcf samples.\")\n",
    "\n",
    "    "
   ]
  },
  {
   "cell_type": "code",
   "execution_count": 42,
   "id": "d5d8c505-d865-4dca-b3b4-cff52c675bba",
   "metadata": {},
   "outputs": [
    {
     "ename": "AssertionError",
     "evalue": "The setup method 'errorhandler' can no longer be called on the application. It has already handled its first request, any changes will not be applied consistently.\nMake sure all imports, decorators, functions, etc. needed to set up the application are done before running it.",
     "output_type": "error",
     "traceback": [
      "\u001b[0;31m---------------------------------------------------------------------------\u001b[0m",
      "\u001b[0;31mAssertionError\u001b[0m                            Traceback (most recent call last)",
      "Cell \u001b[0;32mIn[42], line 25\u001b[0m\n\u001b[1;32m     23\u001b[0m \u001b[38;5;66;03m# Running the app\u001b[39;00m\n\u001b[1;32m     24\u001b[0m \u001b[38;5;28;01mif\u001b[39;00m \u001b[38;5;18m__name__\u001b[39m \u001b[38;5;241m==\u001b[39m \u001b[38;5;124m'\u001b[39m\u001b[38;5;124m__main__\u001b[39m\u001b[38;5;124m'\u001b[39m:\n\u001b[0;32m---> 25\u001b[0m     \u001b[43mapp\u001b[49m\u001b[38;5;241;43m.\u001b[39;49m\u001b[43mrun_server\u001b[49m\u001b[43m(\u001b[49m\u001b[43mdebug\u001b[49m\u001b[38;5;241;43m=\u001b[39;49m\u001b[38;5;28;43;01mTrue\u001b[39;49;00m\u001b[43m,\u001b[49m\u001b[43m \u001b[49m\u001b[43mjupyter_mode\u001b[49m\u001b[43m \u001b[49m\u001b[38;5;241;43m=\u001b[39;49m\u001b[43m \u001b[49m\u001b[38;5;124;43m'\u001b[39;49m\u001b[38;5;124;43mexternal\u001b[39;49m\u001b[38;5;124;43m'\u001b[39;49m\u001b[43m,\u001b[49m\u001b[43m \u001b[49m\u001b[43mport\u001b[49m\u001b[38;5;241;43m=\u001b[39;49m\u001b[38;5;241;43m8051\u001b[39;49m\u001b[43m)\u001b[49m\n",
      "File \u001b[0;32m/opt/anaconda3/envs/tiledbtest/lib/python3.10/site-packages/dash/dash.py:2287\u001b[0m, in \u001b[0;36mDash.run_server\u001b[0;34m(self, *args, **kwargs)\u001b[0m\n\u001b[1;32m   2277\u001b[0m \u001b[38;5;250m\u001b[39m\u001b[38;5;124;03m\"\"\"`run_server` is a deprecated alias of `run` and may be removed in a\u001b[39;00m\n\u001b[1;32m   2278\u001b[0m \u001b[38;5;124;03mfuture version. We recommend using `app.run` instead.\u001b[39;00m\n\u001b[1;32m   2279\u001b[0m \n\u001b[1;32m   2280\u001b[0m \u001b[38;5;124;03mSee `app.run` for usage information.\u001b[39;00m\n\u001b[1;32m   2281\u001b[0m \u001b[38;5;124;03m\"\"\"\u001b[39;00m\n\u001b[1;32m   2282\u001b[0m warnings\u001b[38;5;241m.\u001b[39mwarn(\n\u001b[1;32m   2283\u001b[0m     \u001b[38;5;167;01mDeprecationWarning\u001b[39;00m(\n\u001b[1;32m   2284\u001b[0m         \u001b[38;5;124m\"\u001b[39m\u001b[38;5;124mDash.run_server is deprecated and will be removed in Dash 3.0\u001b[39m\u001b[38;5;124m\"\u001b[39m\n\u001b[1;32m   2285\u001b[0m     )\n\u001b[1;32m   2286\u001b[0m )\n\u001b[0;32m-> 2287\u001b[0m \u001b[38;5;28;43mself\u001b[39;49m\u001b[38;5;241;43m.\u001b[39;49m\u001b[43mrun\u001b[49m\u001b[43m(\u001b[49m\u001b[38;5;241;43m*\u001b[39;49m\u001b[43margs\u001b[49m\u001b[43m,\u001b[49m\u001b[43m \u001b[49m\u001b[38;5;241;43m*\u001b[39;49m\u001b[38;5;241;43m*\u001b[39;49m\u001b[43mkwargs\u001b[49m\u001b[43m)\u001b[49m\n",
      "File \u001b[0;32m/opt/anaconda3/envs/tiledbtest/lib/python3.10/site-packages/dash/dash.py:2098\u001b[0m, in \u001b[0;36mDash.run\u001b[0;34m(self, host, port, proxy, debug, jupyter_mode, jupyter_width, jupyter_height, jupyter_server_url, dev_tools_ui, dev_tools_props_check, dev_tools_serve_dev_bundles, dev_tools_hot_reload, dev_tools_hot_reload_interval, dev_tools_hot_reload_watch_interval, dev_tools_hot_reload_max_retry, dev_tools_silence_routes_logging, dev_tools_prune_errors, **flask_run_options)\u001b[0m\n\u001b[1;32m   2095\u001b[0m \u001b[38;5;28;01mif\u001b[39;00m debug \u001b[38;5;129;01mis\u001b[39;00m \u001b[38;5;28;01mNone\u001b[39;00m:\n\u001b[1;32m   2096\u001b[0m     debug \u001b[38;5;241m=\u001b[39m get_combined_config(\u001b[38;5;124m\"\u001b[39m\u001b[38;5;124mdebug\u001b[39m\u001b[38;5;124m\"\u001b[39m, \u001b[38;5;28;01mNone\u001b[39;00m, \u001b[38;5;28;01mFalse\u001b[39;00m)\n\u001b[0;32m-> 2098\u001b[0m debug \u001b[38;5;241m=\u001b[39m \u001b[38;5;28;43mself\u001b[39;49m\u001b[38;5;241;43m.\u001b[39;49m\u001b[43menable_dev_tools\u001b[49m\u001b[43m(\u001b[49m\n\u001b[1;32m   2099\u001b[0m \u001b[43m    \u001b[49m\u001b[43mdebug\u001b[49m\u001b[43m,\u001b[49m\n\u001b[1;32m   2100\u001b[0m \u001b[43m    \u001b[49m\u001b[43mdev_tools_ui\u001b[49m\u001b[43m,\u001b[49m\n\u001b[1;32m   2101\u001b[0m \u001b[43m    \u001b[49m\u001b[43mdev_tools_props_check\u001b[49m\u001b[43m,\u001b[49m\n\u001b[1;32m   2102\u001b[0m \u001b[43m    \u001b[49m\u001b[43mdev_tools_serve_dev_bundles\u001b[49m\u001b[43m,\u001b[49m\n\u001b[1;32m   2103\u001b[0m \u001b[43m    \u001b[49m\u001b[43mdev_tools_hot_reload\u001b[49m\u001b[43m,\u001b[49m\n\u001b[1;32m   2104\u001b[0m \u001b[43m    \u001b[49m\u001b[43mdev_tools_hot_reload_interval\u001b[49m\u001b[43m,\u001b[49m\n\u001b[1;32m   2105\u001b[0m \u001b[43m    \u001b[49m\u001b[43mdev_tools_hot_reload_watch_interval\u001b[49m\u001b[43m,\u001b[49m\n\u001b[1;32m   2106\u001b[0m \u001b[43m    \u001b[49m\u001b[43mdev_tools_hot_reload_max_retry\u001b[49m\u001b[43m,\u001b[49m\n\u001b[1;32m   2107\u001b[0m \u001b[43m    \u001b[49m\u001b[43mdev_tools_silence_routes_logging\u001b[49m\u001b[43m,\u001b[49m\n\u001b[1;32m   2108\u001b[0m \u001b[43m    \u001b[49m\u001b[43mdev_tools_prune_errors\u001b[49m\u001b[43m,\u001b[49m\n\u001b[1;32m   2109\u001b[0m \u001b[43m\u001b[49m\u001b[43m)\u001b[49m\n\u001b[1;32m   2111\u001b[0m \u001b[38;5;66;03m# Evaluate the env variables at runtime\u001b[39;00m\n\u001b[1;32m   2113\u001b[0m host \u001b[38;5;241m=\u001b[39m os\u001b[38;5;241m.\u001b[39mgetenv(\u001b[38;5;124m\"\u001b[39m\u001b[38;5;124mHOST\u001b[39m\u001b[38;5;124m\"\u001b[39m, host)\n",
      "File \u001b[0;32m/opt/anaconda3/envs/tiledbtest/lib/python3.10/site-packages/dash/dash.py:1868\u001b[0m, in \u001b[0;36mDash.enable_dev_tools\u001b[0;34m(self, debug, dev_tools_ui, dev_tools_props_check, dev_tools_serve_dev_bundles, dev_tools_hot_reload, dev_tools_hot_reload_interval, dev_tools_hot_reload_watch_interval, dev_tools_hot_reload_max_retry, dev_tools_silence_routes_logging, dev_tools_prune_errors)\u001b[0m\n\u001b[1;32m   1866\u001b[0m \u001b[38;5;28;01mif\u001b[39;00m debug:\n\u001b[1;32m   1867\u001b[0m     \u001b[38;5;28;01mif\u001b[39;00m jupyter_dash\u001b[38;5;241m.\u001b[39mactive:\n\u001b[0;32m-> 1868\u001b[0m         \u001b[43mjupyter_dash\u001b[49m\u001b[38;5;241;43m.\u001b[39;49m\u001b[43mconfigure_callback_exception_handling\u001b[49m\u001b[43m(\u001b[49m\n\u001b[1;32m   1869\u001b[0m \u001b[43m            \u001b[49m\u001b[38;5;28;43mself\u001b[39;49m\u001b[43m,\u001b[49m\u001b[43m \u001b[49m\u001b[43mdev_tools\u001b[49m\u001b[38;5;241;43m.\u001b[39;49m\u001b[43mprune_errors\u001b[49m\n\u001b[1;32m   1870\u001b[0m \u001b[43m        \u001b[49m\u001b[43m)\u001b[49m\n\u001b[1;32m   1871\u001b[0m     \u001b[38;5;28;01melif\u001b[39;00m dev_tools\u001b[38;5;241m.\u001b[39mprune_errors:\n\u001b[1;32m   1872\u001b[0m         secret \u001b[38;5;241m=\u001b[39m gen_salt(\u001b[38;5;241m20\u001b[39m)\n",
      "File \u001b[0;32m/opt/anaconda3/envs/tiledbtest/lib/python3.10/site-packages/dash/_jupyter.py:447\u001b[0m, in \u001b[0;36mJupyterDash.configure_callback_exception_handling\u001b[0;34m(self, app, dev_tools_prune_errors)\u001b[0m\n\u001b[1;32m    444\u001b[0m \u001b[38;5;28;01mdef\u001b[39;00m \u001b[38;5;21mconfigure_callback_exception_handling\u001b[39m(\u001b[38;5;28mself\u001b[39m, app, dev_tools_prune_errors):\n\u001b[1;32m    445\u001b[0m \u001b[38;5;250m    \u001b[39m\u001b[38;5;124;03m\"\"\"Install traceback handling for callbacks\"\"\"\u001b[39;00m\n\u001b[0;32m--> 447\u001b[0m     \u001b[38;5;129m@app\u001b[39m\u001b[38;5;241;43m.\u001b[39;49m\u001b[43mserver\u001b[49m\u001b[38;5;241;43m.\u001b[39;49m\u001b[43merrorhandler\u001b[49m\u001b[43m(\u001b[49m\u001b[38;5;167;43;01mException\u001b[39;49;00m\u001b[43m)\u001b[49m\n\u001b[1;32m    448\u001b[0m     \u001b[38;5;28;01mdef\u001b[39;00m \u001b[38;5;21m_wrap_errors\u001b[39m(error):\n\u001b[1;32m    449\u001b[0m         \u001b[38;5;66;03m# Compute number of stack frames to skip to get down to callback\u001b[39;00m\n\u001b[1;32m    450\u001b[0m         skip \u001b[38;5;241m=\u001b[39m _get_skip(error) \u001b[38;5;28;01mif\u001b[39;00m dev_tools_prune_errors \u001b[38;5;28;01melse\u001b[39;00m \u001b[38;5;241m0\u001b[39m\n\u001b[1;32m    452\u001b[0m         \u001b[38;5;66;03m# Customized formatargvalues function we can place function parameters\u001b[39;00m\n\u001b[1;32m    453\u001b[0m         \u001b[38;5;66;03m# on separate lines\u001b[39;00m\n",
      "File \u001b[0;32m/opt/anaconda3/envs/tiledbtest/lib/python3.10/site-packages/flask/sansio/scaffold.py:46\u001b[0m, in \u001b[0;36msetupmethod.<locals>.wrapper_func\u001b[0;34m(self, *args, **kwargs)\u001b[0m\n\u001b[1;32m     45\u001b[0m \u001b[38;5;28;01mdef\u001b[39;00m \u001b[38;5;21mwrapper_func\u001b[39m(\u001b[38;5;28mself\u001b[39m: Scaffold, \u001b[38;5;241m*\u001b[39margs: t\u001b[38;5;241m.\u001b[39mAny, \u001b[38;5;241m*\u001b[39m\u001b[38;5;241m*\u001b[39mkwargs: t\u001b[38;5;241m.\u001b[39mAny) \u001b[38;5;241m-\u001b[39m\u001b[38;5;241m>\u001b[39m t\u001b[38;5;241m.\u001b[39mAny:\n\u001b[0;32m---> 46\u001b[0m     \u001b[38;5;28;43mself\u001b[39;49m\u001b[38;5;241;43m.\u001b[39;49m\u001b[43m_check_setup_finished\u001b[49m\u001b[43m(\u001b[49m\u001b[43mf_name\u001b[49m\u001b[43m)\u001b[49m\n\u001b[1;32m     47\u001b[0m     \u001b[38;5;28;01mreturn\u001b[39;00m f(\u001b[38;5;28mself\u001b[39m, \u001b[38;5;241m*\u001b[39margs, \u001b[38;5;241m*\u001b[39m\u001b[38;5;241m*\u001b[39mkwargs)\n",
      "File \u001b[0;32m/opt/anaconda3/envs/tiledbtest/lib/python3.10/site-packages/flask/sansio/app.py:415\u001b[0m, in \u001b[0;36mApp._check_setup_finished\u001b[0;34m(self, f_name)\u001b[0m\n\u001b[1;32m    413\u001b[0m \u001b[38;5;28;01mdef\u001b[39;00m \u001b[38;5;21m_check_setup_finished\u001b[39m(\u001b[38;5;28mself\u001b[39m, f_name: \u001b[38;5;28mstr\u001b[39m) \u001b[38;5;241m-\u001b[39m\u001b[38;5;241m>\u001b[39m \u001b[38;5;28;01mNone\u001b[39;00m:\n\u001b[1;32m    414\u001b[0m     \u001b[38;5;28;01mif\u001b[39;00m \u001b[38;5;28mself\u001b[39m\u001b[38;5;241m.\u001b[39m_got_first_request:\n\u001b[0;32m--> 415\u001b[0m         \u001b[38;5;28;01mraise\u001b[39;00m \u001b[38;5;167;01mAssertionError\u001b[39;00m(\n\u001b[1;32m    416\u001b[0m             \u001b[38;5;124mf\u001b[39m\u001b[38;5;124m\"\u001b[39m\u001b[38;5;124mThe setup method \u001b[39m\u001b[38;5;124m'\u001b[39m\u001b[38;5;132;01m{\u001b[39;00mf_name\u001b[38;5;132;01m}\u001b[39;00m\u001b[38;5;124m'\u001b[39m\u001b[38;5;124m can no longer be called\u001b[39m\u001b[38;5;124m\"\u001b[39m\n\u001b[1;32m    417\u001b[0m             \u001b[38;5;124m\"\u001b[39m\u001b[38;5;124m on the application. It has already handled its first\u001b[39m\u001b[38;5;124m\"\u001b[39m\n\u001b[1;32m    418\u001b[0m             \u001b[38;5;124m\"\u001b[39m\u001b[38;5;124m request, any changes will not be applied\u001b[39m\u001b[38;5;124m\"\u001b[39m\n\u001b[1;32m    419\u001b[0m             \u001b[38;5;124m\"\u001b[39m\u001b[38;5;124m consistently.\u001b[39m\u001b[38;5;130;01m\\n\u001b[39;00m\u001b[38;5;124m\"\u001b[39m\n\u001b[1;32m    420\u001b[0m             \u001b[38;5;124m\"\u001b[39m\u001b[38;5;124mMake sure all imports, decorators, functions, etc.\u001b[39m\u001b[38;5;124m\"\u001b[39m\n\u001b[1;32m    421\u001b[0m             \u001b[38;5;124m\"\u001b[39m\u001b[38;5;124m needed to set up the application are done before\u001b[39m\u001b[38;5;124m\"\u001b[39m\n\u001b[1;32m    422\u001b[0m             \u001b[38;5;124m\"\u001b[39m\u001b[38;5;124m running it.\u001b[39m\u001b[38;5;124m\"\u001b[39m\n\u001b[1;32m    423\u001b[0m         )\n",
      "\u001b[0;31mAssertionError\u001b[0m: The setup method 'errorhandler' can no longer be called on the application. It has already handled its first request, any changes will not be applied consistently.\nMake sure all imports, decorators, functions, etc. needed to set up the application are done before running it."
     ]
    }
   ],
   "source": [
    "\n",
    "dataset_existence = html.Div([\n",
    "    html.P(\"Dataset Already exist. Please select what you want to do next ?\"),\n",
    "    dcc.Dropdown([\"Remove\", \"Update\"], id=\"duplicate_dataset_case\"),\n",
    "    html.Button('Submit', id='ddbutton', n_clicks=0),\n",
    "    html.P(id=\"Output\")\n",
    "])\n",
    "\n",
    "@app.callback(Output(\"Output\", component_property=\"children\"),\n",
    "          Input(\"ddbutton\", component_property=\"n_clicks\"),\n",
    "          State(\"duplicate_dataset_case\", component_property=\"value\"))\n",
    "\n",
    "def check_dataset_existence(n_clicks,message):\n",
    "    if n_clicks == 0:\n",
    "       raise PreventUpdate\n",
    "    else:\n",
    "        if message==\"Remove\":\n",
    "            return(\"removed\")\n",
    "        else:\n",
    "            return(\"Updated\")\n",
    "    \n",
    "    \n",
    "    "
   ]
  }
 ],
 "metadata": {
  "kernelspec": {
   "display_name": "Python 3 (ipykernel)",
   "language": "python",
   "name": "python3"
  },
  "language_info": {
   "codemirror_mode": {
    "name": "ipython",
    "version": 3
   },
   "file_extension": ".py",
   "mimetype": "text/x-python",
   "name": "python",
   "nbconvert_exporter": "python",
   "pygments_lexer": "ipython3",
   "version": "3.10.13"
  }
 },
 "nbformat": 4,
 "nbformat_minor": 5
}
